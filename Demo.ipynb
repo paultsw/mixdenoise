{
 "cells": [
  {
   "cell_type": "markdown",
   "metadata": {},
   "source": [
    "A quick demo showing how MixDenoise works: we'll construct an\n",
    "artificial GMM with 2 components and construct a MixDenoise\n",
    "layer with 3 components."
   ]
  },
  {
   "cell_type": "code",
   "execution_count": 1,
   "metadata": {
    "collapsed": true
   },
   "outputs": [],
   "source": [
    "%load_ext autoreload\n",
    "%autoreload 2\n",
    "%matplotlib inline"
   ]
  },
  {
   "cell_type": "code",
   "execution_count": 2,
   "metadata": {
    "collapsed": true
   },
   "outputs": [],
   "source": [
    "# import the usual suspects:\n",
    "import torch\n",
    "import torch.nn as nn\n",
    "from torch.autograd import Variable\n",
    "import torch.optim as optim\n",
    "from mixdenoise import MixDenoise, mdn_loss, regularized_mdn_loss\n",
    "\n",
    "import numpy as np\n",
    "from tqdm import tqdm, tqdm_notebook\n",
    "import matplotlib\n",
    "import matplotlib.pyplot as plt\n",
    "import seaborn as sns"
   ]
  },
  {
   "cell_type": "markdown",
   "metadata": {},
   "source": [
    "- - - "
   ]
  },
  {
   "cell_type": "markdown",
   "metadata": {},
   "source": [
    "First, let's construct a function that samples from a Gaussian Mixture Model that will be unknown to our `MixDenoise` model."
   ]
  },
  {
   "cell_type": "code",
   "execution_count": 3,
   "metadata": {
    "collapsed": true
   },
   "outputs": [],
   "source": [
    "### GMM sampling:\n",
    "gmm_mixes = torch.Tensor([0.5, 0.5 ])\n",
    "gmm_means = torch.Tensor([ 1.0, 2.0 ])\n",
    "gmm_stdvs = torch.Tensor([ 0.1, 0.3 ])\n",
    "def sample_from_gmm(size=1):\n",
    "    \"\"\"\n",
    "    Return a batch of samples from above gaussian components.\n",
    "    Output shape is (batch_size, 1).\n",
    "    \"\"\"\n",
    "    # draw an integer vector of gaussian component choices:\n",
    "    choices = torch.multinomial(gmm_mixes, size, replacement=True)\n",
    "    # get corresponding gaussian samples:\n",
    "    samples = torch.normal(gmm_means[choices], gmm_stdvs[choices])\n",
    "    return (choices, samples)"
   ]
  },
  {
   "cell_type": "code",
   "execution_count": 4,
   "metadata": {},
   "outputs": [
    {
     "data": {
      "text/plain": [
       "<matplotlib.axes._subplots.AxesSubplot at 0x7f5b2062f0f0>"
      ]
     },
     "execution_count": 4,
     "metadata": {},
     "output_type": "execute_result"
    },
    {
     "data": {
      "image/png": "[encoded data removed]",
      "text/plain": [
       "<matplotlib.figure.Figure at 0x7f5ab0177978>"
      ]
     },
     "metadata": {},
     "output_type": "display_data"
    }
   ],
   "source": [
    "_choices, samples = sample_from_gmm(size=1000)\n",
    "sns.kdeplot(samples.numpy())"
   ]
  },
  {
   "cell_type": "markdown",
   "metadata": {},
   "source": [
    "- - -"
   ]
  },
  {
   "cell_type": "markdown",
   "metadata": {},
   "source": [
    "Now, let's construct our `MixDenoise` model:"
   ]
  },
  {
   "cell_type": "code",
   "execution_count": 5,
   "metadata": {
    "collapsed": true
   },
   "outputs": [],
   "source": [
    "### MixDenoise model with 10 mixtures:\n",
    "mdl = MixDenoise(3, jitter=0.5)\n",
    "# warm-up the internal means:\n",
    "mdl.means = nn.Parameter(torch.Tensor([0.0, 1.0, 2.0]), requires_grad=True)"
   ]
  },
  {
   "cell_type": "markdown",
   "metadata": {},
   "source": [
    "`MixDenoise` exposes the following methods:\n",
    "* `gmm()`: returns a 3-tuple of torch float variables `(pi, mu, sigma)` each of shape `(num_components,)`, representing the underlying mixture model.\n",
    "* `sample(size=1)`: return `size` samples from the underlying GMM of the `MixDenoise` model.\n",
    "* `activations(x)`: given `x ~ (batch_size,)`, return `activs ~ (batch_size, num_components)` giving the probability of each element of `x` against each component gaussian in the GMM.\n",
    "* `forward(x)`: return the probability of sample `x ~ (batch_size,)` according to the underlying GMM density."
   ]
  },
  {
   "cell_type": "code",
   "execution_count": 6,
   "metadata": {},
   "outputs": [
    {
     "name": "stdout",
     "output_type": "stream",
     "text": [
      "Variable containing:\n",
      " 0.5467\n",
      " 0.2563\n",
      " 0.1970\n",
      "[torch.FloatTensor of size 3]\n",
      "\n",
      "----------------------------------------\n",
      "Parameter containing:\n",
      " 0\n",
      " 1\n",
      " 2\n",
      "[torch.FloatTensor of size 3]\n",
      "\n",
      "----------------------------------------\n",
      "Variable containing:\n",
      " 2.5810\n",
      " 4.2546\n",
      " 1.8422\n",
      "[torch.FloatTensor of size 3]\n",
      "\n"
     ]
    }
   ],
   "source": [
    "# Quick demo of sampling:\n",
    "pi, mu, sigma = mdl.gmm()\n",
    "print(pi)\n",
    "print(\"-\" * 40)\n",
    "print(mu)\n",
    "print(\"-\" * 40)\n",
    "print(sigma)"
   ]
  },
  {
   "cell_type": "code",
   "execution_count": 7,
   "metadata": {},
   "outputs": [
    {
     "data": {
      "text/plain": [
       "<matplotlib.axes._subplots.AxesSubplot at 0x7f5aae151ac8>"
      ]
     },
     "execution_count": 7,
     "metadata": {},
     "output_type": "execute_result"
    },
    {
     "data": {
      "image/png": "[encoded data removed]",
      "text/plain": [
       "<matplotlib.figure.Figure at 0x7f5ab01772e8>"
      ]
     },
     "metadata": {},
     "output_type": "display_data"
    }
   ],
   "source": [
    "_, mdl_samples = mdl.sample(size=1000)\n",
    "sns.kdeplot(mdl_samples.data.numpy())"
   ]
  },
  {
   "cell_type": "markdown",
   "metadata": {},
   "source": [
    "- - -"
   ]
  },
  {
   "cell_type": "markdown",
   "metadata": {},
   "source": [
    "Finally, let's train our model on the generated GMM samples:"
   ]
  },
  {
   "cell_type": "code",
   "execution_count": 8,
   "metadata": {
    "collapsed": true
   },
   "outputs": [],
   "source": [
    "# nb.: choosing a sufficiently small learning rate is important\n",
    "opt = optim.Adam(mdl.parameters(), lr=0.00001)\n",
    "def train(regularized=False):\n",
    "    NUM_ITERS = 1000000\n",
    "    PRINT_EVERY = 10000\n",
    "    BSZ = 32\n",
    "    for k in range(NUM_ITERS):\n",
    "        # clear gradients:\n",
    "        opt.zero_grad()\n",
    "        # generate a sample:\n",
    "        _, samps = sample_from_gmm(size=BSZ)\n",
    "        x = Variable(samps)\n",
    "        # compute loss:\n",
    "        if not regularized:\n",
    "            loss = mdn_loss(mdl(x))\n",
    "        else:\n",
    "            loss = regularized_mdn_loss(mdl, x)\n",
    "        # backwards:\n",
    "        loss.backward()\n",
    "        opt.step()\n",
    "        # print:\n",
    "        if (k % PRINT_EVERY == 0): tqdm.write(\"{0} | {1}\".format(k,loss.data[0]))\n",
    "\n",
    "    # print weights:\n",
    "    mdl_pi, mdl_mu, mdl_sigma = mdl.gmm()\n",
    "    print(\"*** Learned weights:\")\n",
    "    print(mdl_pi.data)\n",
    "    print(\"*** Learned means:\")\n",
    "    print(mdl_mu.data)\n",
    "    print(\"*** Learned Stdvs:\")\n",
    "    print(mdl_sigma.data)"
   ]
  },
  {
   "cell_type": "code",
   "execution_count": 9,
   "metadata": {},
   "outputs": [
    {
     "name": "stdout",
     "output_type": "stream",
     "text": [
      "0 | 1.9987767934799194\n",
      "10000 | 1.8879621028900146\n",
      "20000 | 1.781490683555603\n",
      "30000 | 1.6685130596160889\n",
      "40000 | 1.5451526641845703\n",
      "50000 | 1.446631669998169\n",
      "60000 | 1.3311938047409058\n",
      "70000 | 1.2455633878707886\n",
      "80000 | 1.0814131498336792\n",
      "90000 | 1.1062030792236328\n",
      "100000 | 0.9999379515647888\n",
      "110000 | 0.8833749890327454\n",
      "120000 | 1.0275815725326538\n",
      "130000 | 0.8746631145477295\n",
      "140000 | 0.897672176361084\n",
      "150000 | 0.820691704750061\n",
      "160000 | 0.8010134696960449\n",
      "170000 | 0.7925342917442322\n",
      "180000 | 0.835989236831665\n",
      "190000 | 0.7937666773796082\n",
      "200000 | 0.7695156931877136\n",
      "210000 | 0.7574431300163269\n",
      "220000 | 0.7194257378578186\n",
      "230000 | 0.9468278884887695\n",
      "240000 | 0.7629249691963196\n",
      "250000 | 0.8991546034812927\n",
      "260000 | 0.8057562112808228\n",
      "270000 | 0.7147462964057922\n",
      "280000 | 0.8323847651481628\n",
      "290000 | 0.7216814756393433\n",
      "300000 | 0.7397158741950989\n",
      "310000 | 0.8060505986213684\n",
      "320000 | 0.5188150405883789\n",
      "330000 | 0.5396626591682434\n",
      "340000 | 0.504619300365448\n",
      "350000 | 0.6412566900253296\n",
      "360000 | 0.4583064317703247\n",
      "370000 | 0.5123031139373779\n",
      "380000 | 0.4166187047958374\n",
      "390000 | 0.41370826959609985\n",
      "400000 | 0.3420255184173584\n",
      "410000 | 0.25914472341537476\n",
      "420000 | 0.2006717473268509\n",
      "430000 | 0.17520707845687866\n",
      "440000 | 0.3263935148715973\n",
      "450000 | 0.10515135526657104\n",
      "460000 | 0.25176599621772766\n",
      "470000 | 0.11249669641256332\n",
      "480000 | 0.5797761082649231\n",
      "490000 | 0.39914557337760925\n",
      "500000 | 0.46681010723114014\n",
      "510000 | 0.5069705247879028\n",
      "520000 | 0.3365659713745117\n",
      "530000 | 0.40267664194107056\n",
      "540000 | 0.46633291244506836\n",
      "550000 | 0.15503807365894318\n",
      "560000 | 0.24713101983070374\n",
      "570000 | 0.3255336284637451\n",
      "580000 | 0.35295653343200684\n",
      "590000 | 0.33991217613220215\n",
      "600000 | 0.43833279609680176\n",
      "610000 | 0.3376219570636749\n",
      "620000 | 0.7260977029800415\n",
      "630000 | 0.3530879318714142\n",
      "640000 | 0.5597650408744812\n",
      "650000 | 0.5045425295829773\n",
      "660000 | 0.34299492835998535\n",
      "670000 | 0.12359621375799179\n",
      "680000 | 0.3202143609523773\n",
      "690000 | 0.7962257266044617\n",
      "700000 | 0.416652649641037\n",
      "710000 | 0.09705449640750885\n",
      "720000 | 0.12438181787729263\n",
      "730000 | 0.15464943647384644\n",
      "740000 | 0.10674874484539032\n",
      "750000 | 0.6137863993644714\n",
      "760000 | 0.4616013169288635\n",
      "770000 | 0.10449782013893127\n",
      "780000 | 0.4247904419898987\n",
      "790000 | 0.39082711935043335\n",
      "800000 | 0.6018322110176086\n",
      "810000 | 0.26937413215637207\n",
      "820000 | 0.10006985068321228\n",
      "830000 | 0.4162658452987671\n",
      "840000 | 0.23177140951156616\n",
      "850000 | 0.2563789486885071\n",
      "860000 | 0.32251039147377014\n",
      "870000 | 0.05809618905186653\n",
      "880000 | 0.35251063108444214\n",
      "890000 | 0.24627685546875\n",
      "900000 | 0.41681912541389465\n",
      "910000 | 0.3124977946281433\n",
      "920000 | 0.4469701945781708\n",
      "930000 | 0.026413923129439354\n",
      "940000 | 0.29511064291000366\n",
      "950000 | 0.5155805945396423\n",
      "960000 | 0.3074149191379547\n",
      "970000 | 0.3945187032222748\n",
      "980000 | 0.23647728562355042\n",
      "990000 | 0.4430486559867859\n",
      "*** Learned weights:\n",
      "\n",
      " 0.5001\n",
      " 0.0377\n",
      " 0.4622\n",
      "[torch.FloatTensor of size 3]\n",
      "\n",
      "*** Learned means:\n",
      "\n",
      " 0.9997\n",
      " 2.0368\n",
      " 1.9963\n",
      "[torch.FloatTensor of size 3]\n",
      "\n",
      "*** Learned Stdvs:\n",
      "\n",
      " 0.1000\n",
      " 0.2562\n",
      " 0.3038\n",
      "[torch.FloatTensor of size 3]\n",
      "\n"
     ]
    }
   ],
   "source": [
    "train()"
   ]
  },
  {
   "cell_type": "code",
   "execution_count": 10,
   "metadata": {},
   "outputs": [
    {
     "data": {
      "text/plain": [
       "<matplotlib.axes._subplots.AxesSubplot at 0x7f5aac8820f0>"
      ]
     },
     "execution_count": 10,
     "metadata": {},
     "output_type": "execute_result"
    },
    {
     "data": {
      "image/png": "[encoded data removed]",
      "text/plain": [
       "<matplotlib.figure.Figure at 0x7f5aae0c5f60>"
      ]
     },
     "metadata": {},
     "output_type": "display_data"
    }
   ],
   "source": [
    "_, mdl_samples = mdl.sample(size=1000)\n",
    "sns.kdeplot(mdl_samples.data.numpy())"
   ]
  },
  {
   "cell_type": "code",
   "execution_count": 11,
   "metadata": {},
   "outputs": [
    {
     "data": {
      "text/plain": [
       "<matplotlib.axes._subplots.AxesSubplot at 0x7f5aac89a4e0>"
      ]
     },
     "execution_count": 11,
     "metadata": {},
     "output_type": "execute_result"
    },
    {
     "data": {
      "image/png": "[encoded data removed]",
      "text/plain": [
       "<matplotlib.figure.Figure at 0x7f5aac83fe10>"
      ]
     },
     "metadata": {},
     "output_type": "display_data"
    }
   ],
   "source": [
    "_choices, samples = sample_from_gmm(size=1000)\n",
    "sns.kdeplot(samples.numpy())"
   ]
  },
  {
   "cell_type": "markdown",
   "metadata": {
    "collapsed": true
   },
   "source": [
    "- - - "
   ]
  },
  {
   "cell_type": "markdown",
   "metadata": {},
   "source": [
    "Now let's compare this with scikit-learn's Expectation-Maximization and Variational Bayes algorithms for gaussian mixture models."
   ]
  },
  {
   "cell_type": "code",
   "execution_count": 12,
   "metadata": {
    "collapsed": true
   },
   "outputs": [],
   "source": [
    "from sklearn import mixture"
   ]
  },
  {
   "cell_type": "markdown",
   "metadata": {},
   "source": [
    "First try _GaussianMixture_ with _Expectation-Maximization_:"
   ]
  },
  {
   "cell_type": "code",
   "execution_count": 14,
   "metadata": {},
   "outputs": [],
   "source": [
    "gmm_em = mixture.GaussianMixture(n_components=3, covariance_type='full', max_iter=100)\n",
    "for k in range(10000):\n",
    "    _, samples = sample_from_gmm(size=32)\n",
    "    gmm_em.fit(samples.numpy().reshape(-1,1))"
   ]
  },
  {
   "cell_type": "code",
   "execution_count": 22,
   "metadata": {},
   "outputs": [
    {
     "data": {
      "text/plain": [
       "<matplotlib.axes._subplots.AxesSubplot at 0x7f5aa67eb828>"
      ]
     },
     "execution_count": 22,
     "metadata": {},
     "output_type": "execute_result"
    },
    {
     "data": {
      "image/png": "[encoded data removed]",
      "text/plain": [
       "<matplotlib.figure.Figure at 0x7f5aa130dcf8>"
      ]
     },
     "metadata": {},
     "output_type": "display_data"
    }
   ],
   "source": [
    "# plot the results:\n",
    "sns.kdeplot(gmm_em.sample(n_samples=1000)[0][:,0])"
   ]
  },
  {
   "cell_type": "markdown",
   "metadata": {},
   "source": [
    "And now the _BayesianGaussianMixture_:"
   ]
  },
  {
   "cell_type": "code",
   "execution_count": 24,
   "metadata": {},
   "outputs": [
    {
     "data": {
      "text/plain": [
       "BayesianGaussianMixture(covariance_prior=None, covariance_type='full',\n",
       "            degrees_of_freedom_prior=None, init_params='kmeans',\n",
       "            max_iter=1000000, mean_precision_prior=None, mean_prior=None,\n",
       "            n_components=3, n_init=1, random_state=None, reg_covar=1e-06,\n",
       "            tol=0.001, verbose=0, verbose_interval=10, warm_start=False,\n",
       "            weight_concentration_prior=None,\n",
       "            weight_concentration_prior_type='dirichlet_process')"
      ]
     },
     "execution_count": 24,
     "metadata": {},
     "output_type": "execute_result"
    }
   ],
   "source": [
    "gmm_vb = mixture.BayesianGaussianMixture(n_components=3, covariance_type='full', max_iter=1000000)\n",
    "_, samples = sample_from_gmm(size=1000000)\n",
    "gmm_vb.fit(samples.numpy().reshape(-1,1))"
   ]
  },
  {
   "cell_type": "code",
   "execution_count": 25,
   "metadata": {},
   "outputs": [
    {
     "data": {
      "text/plain": [
       "<matplotlib.axes._subplots.AxesSubplot at 0x7f5aa0f45b38>"
      ]
     },
     "execution_count": 25,
     "metadata": {},
     "output_type": "execute_result"
    },
    {
     "data": {
      "image/png": "[encoded data removed]",
      "text/plain": [
       "<matplotlib.figure.Figure at 0x7f5aa6748630>"
      ]
     },
     "metadata": {},
     "output_type": "display_data"
    }
   ],
   "source": [
    "# plot the results:\n",
    "sns.kdeplot(gmm_vb.sample(n_samples=1000)[0][:,0])"
   ]
  },
  {
   "cell_type": "code",
   "execution_count": null,
   "metadata": {
    "collapsed": true
   },
   "outputs": [],
   "source": []
  }
 ],
 "metadata": {
  "kernelspec": {
   "display_name": "Python 3",
   "language": "python",
   "name": "python3"
  },
  "language_info": {
   "codemirror_mode": {
    "name": "ipython",
    "version": 3
   },
   "file_extension": ".py",
   "mimetype": "text/x-python",
   "name": "python",
   "nbconvert_exporter": "python",
   "pygments_lexer": "ipython3",
   "version": "3.6.2"
  }
 },
 "nbformat": 4,
 "nbformat_minor": 2
}
