{
 "cells": [
  {
   "cell_type": "markdown",
   "metadata": {},
   "source": [
    "A quick demo showing how MixDenoise works: we'll construct an\n",
    "artificial GMM with 5 components and construct a MixDenoise\n",
    "layer with 10 components.\n",
    "\n",
    "We train on samples from the GMM and pass the resulting outputs\n",
    "to some feedforward networks for dimensionality reduction from 10=>5,\n",
    "and try to predict which gaussian it came from."
   ]
  },
  {
   "cell_type": "code",
   "execution_count": 1,
   "metadata": {
    "collapsed": true
   },
   "outputs": [],
   "source": [
    "%load_ext autoreload\n",
    "%autoreload 2\n",
    "%matplotlib inline"
   ]
  },
  {
   "cell_type": "code",
   "execution_count": 2,
   "metadata": {
    "collapsed": true
   },
   "outputs": [],
   "source": [
    "# import the usual suspects:\n",
    "import torch\n",
    "import torch.nn as nn\n",
    "from torch.autograd import Variable\n",
    "import torch.optim as optim\n",
    "from mixdenoise import MixDenoise, mdn_loss, regularized_mdn_loss\n",
    "\n",
    "import numpy as np\n",
    "from tqdm import tqdm, tqdm_notebook\n",
    "import matplotlib\n",
    "import matplotlib.pyplot as plt\n",
    "import seaborn as sns"
   ]
  },
  {
   "cell_type": "markdown",
   "metadata": {},
   "source": [
    "- - - "
   ]
  },
  {
   "cell_type": "markdown",
   "metadata": {},
   "source": [
    "First, let's construct a function that samples from a Gaussian Mixture Model that will be unknown to our `MixDenoise` model."
   ]
  },
  {
   "cell_type": "code",
   "execution_count": 3,
   "metadata": {
    "collapsed": true
   },
   "outputs": [],
   "source": [
    "### GMM sampling:\n",
    "gmm_mixes = torch.Tensor([0.5, 0.5 ])\n",
    "gmm_means = torch.Tensor([ 1.0, 2.0 ])\n",
    "gmm_stdvs = torch.Tensor([ 0.1, 0.3 ])\n",
    "def sample_from_gmm(size=1):\n",
    "    \"\"\"\n",
    "    Return a batch of samples from above gaussian components.\n",
    "    Output shape is (batch_size, 1).\n",
    "    \"\"\"\n",
    "    # draw an integer vector of gaussian component choices:\n",
    "    choices = torch.multinomial(gmm_mixes, size, replacement=True)\n",
    "    # get corresponding gaussian samples:\n",
    "    samples = torch.normal(gmm_means[choices], gmm_stdvs[choices])\n",
    "    return (choices, samples)"
   ]
  },
  {
   "cell_type": "code",
   "execution_count": 4,
   "metadata": {},
   "outputs": [
    {
     "data": {
      "text/plain": [
       "<matplotlib.axes._subplots.AxesSubplot at 0x7ff00c3b7ac8>"
      ]
     },
     "execution_count": 4,
     "metadata": {},
     "output_type": "execute_result"
    },
    {
     "data": {
      "image/png": "[encoded data removed]",
      "text/plain": [
       "<matplotlib.figure.Figure at 0x7fef9bf998d0>"
      ]
     },
     "metadata": {},
     "output_type": "display_data"
    }
   ],
   "source": [
    "_choices, samples = sample_from_gmm(size=1000)\n",
    "sns.kdeplot(samples.numpy())"
   ]
  },
  {
   "cell_type": "markdown",
   "metadata": {},
   "source": [
    "- - -"
   ]
  },
  {
   "cell_type": "markdown",
   "metadata": {},
   "source": [
    "Now, let's construct our `MixDenoise` model:"
   ]
  },
  {
   "cell_type": "code",
   "execution_count": 5,
   "metadata": {
    "collapsed": true
   },
   "outputs": [],
   "source": [
    "### MixDenoise model with 10 mixtures:\n",
    "mdl = MixDenoise(3, jitter=0.5)\n",
    "# warm-up the internal means:\n",
    "mdl.means = nn.Parameter(torch.Tensor([0.0, 1.0, 2.0]), requires_grad=True)"
   ]
  },
  {
   "cell_type": "markdown",
   "metadata": {},
   "source": [
    "`MixDenoise` exposes the following methods:\n",
    "* `gmm()`: returns a 3-tuple of torch float variables `(pi, mu, sigma)` each of shape `(num_components,)`, representing the underlying mixture model.\n",
    "* `sample(size=1)`: return `size` samples from the underlying GMM of the `MixDenoise` model.\n",
    "* `activations(x)`: given `x ~ (batch_size,)`, return `activs ~ (batch_size, num_components)` giving the probability of each element of `x` against each component gaussian in the GMM.\n",
    "* `forward(x)`: return the probability of sample `x ~ (batch_size,)` according to the underlying GMM density."
   ]
  },
  {
   "cell_type": "code",
   "execution_count": 6,
   "metadata": {},
   "outputs": [
    {
     "name": "stdout",
     "output_type": "stream",
     "text": [
      "Variable containing:\n",
      " 0.5420\n",
      " 0.2102\n",
      " 0.2478\n",
      "[torch.FloatTensor of size 3]\n",
      "\n",
      "----------------------------------------\n",
      "Parameter containing:\n",
      " 0\n",
      " 1\n",
      " 2\n",
      "[torch.FloatTensor of size 3]\n",
      "\n",
      "----------------------------------------\n",
      "Variable containing:\n",
      " 3.5864\n",
      " 3.9001\n",
      " 2.4379\n",
      "[torch.FloatTensor of size 3]\n",
      "\n"
     ]
    }
   ],
   "source": [
    "# Quick demo of sampling:\n",
    "pi, mu, sigma = mdl.gmm()\n",
    "print(pi)\n",
    "print(\"-\" * 40)\n",
    "print(mu)\n",
    "print(\"-\" * 40)\n",
    "print(sigma)"
   ]
  },
  {
   "cell_type": "code",
   "execution_count": 7,
   "metadata": {},
   "outputs": [
    {
     "data": {
      "text/plain": [
       "<matplotlib.axes._subplots.AxesSubplot at 0x7fef9bf99390>"
      ]
     },
     "execution_count": 7,
     "metadata": {},
     "output_type": "execute_result"
    },
    {
     "data": {
      "image/png": "[encoded data removed]",
      "text/plain": [
       "<matplotlib.figure.Figure at 0x7fef9bfbdef0>"
      ]
     },
     "metadata": {},
     "output_type": "display_data"
    }
   ],
   "source": [
    "_, mdl_samples = mdl.sample(size=1000)\n",
    "sns.kdeplot(mdl_samples.data.numpy())"
   ]
  },
  {
   "cell_type": "markdown",
   "metadata": {},
   "source": [
    "- - -"
   ]
  },
  {
   "cell_type": "markdown",
   "metadata": {},
   "source": [
    "Finally, let's train our model on the generated GMM samples:"
   ]
  },
  {
   "cell_type": "code",
   "execution_count": 8,
   "metadata": {
    "collapsed": true
   },
   "outputs": [],
   "source": [
    "# nb.: choosing a sufficiently small learning rate is important\n",
    "opt = optim.Adam(mdl.parameters(), lr=0.00001)\n",
    "def train(regularized=False):\n",
    "    NUM_ITERS = 1000000\n",
    "    PRINT_EVERY = 10000\n",
    "    BSZ = 32\n",
    "    for k in range(NUM_ITERS):\n",
    "        # clear gradients:\n",
    "        opt.zero_grad()\n",
    "        # generate a sample:\n",
    "        _, samps = sample_from_gmm(size=BSZ)\n",
    "        x = Variable(samps)\n",
    "        # compute loss:\n",
    "        if not regularized:\n",
    "            loss = mdn_loss(mdl(x))\n",
    "        else:\n",
    "            loss = regularized_mdn_loss(mdl, x)\n",
    "        # backwards:\n",
    "        loss.backward()\n",
    "        opt.step()\n",
    "        # print:\n",
    "        if (k % PRINT_EVERY == 0): tqdm.write(\"{0} | {1}\".format(k,loss.data[0]))\n",
    "\n",
    "    # print weights:\n",
    "    mdl_pi, mdl_mu, mdl_sigma = mdl.gmm()\n",
    "    print(\"*** Learned weights:\")\n",
    "    print(mdl_pi.data)\n",
    "    print(\"*** Learned means:\")\n",
    "    print(mdl_mu.data)\n",
    "    print(\"*** Learned Stdvs:\")\n",
    "    print(mdl_sigma.data)"
   ]
  },
  {
   "cell_type": "code",
   "execution_count": 9,
   "metadata": {},
   "outputs": [
    {
     "name": "stdout",
     "output_type": "stream",
     "text": [
      "0 | 2.1634585857391357\n",
      "10000 | 2.054853677749634\n",
      "20000 | 1.9269462823867798\n",
      "30000 | 1.8224565982818604\n",
      "40000 | 1.6999197006225586\n",
      "50000 | 1.5809800624847412\n",
      "60000 | 1.458940029144287\n",
      "70000 | 1.3720247745513916\n",
      "80000 | 1.2702478170394897\n",
      "90000 | 1.1533395051956177\n",
      "100000 | 1.0906963348388672\n",
      "110000 | 1.0340349674224854\n",
      "120000 | 0.8908693194389343\n",
      "130000 | 0.9319125413894653\n",
      "140000 | 0.8460730314254761\n",
      "150000 | 0.8977468609809875\n",
      "160000 | 0.8371689319610596\n",
      "170000 | 0.825670063495636\n",
      "180000 | 0.851169764995575\n",
      "190000 | 0.7784522771835327\n",
      "200000 | 0.736637532711029\n",
      "210000 | 0.7784103155136108\n",
      "220000 | 0.8390855193138123\n",
      "230000 | 0.8282139897346497\n",
      "240000 | 0.8365344405174255\n",
      "250000 | 0.8830051422119141\n",
      "260000 | 0.76194828748703\n",
      "270000 | 0.730453372001648\n",
      "280000 | 0.7762591242790222\n",
      "290000 | 0.7731460928916931\n",
      "300000 | 0.7310796976089478\n",
      "310000 | 0.9138936996459961\n",
      "320000 | 0.8225017786026001\n",
      "330000 | 0.8756917119026184\n",
      "340000 | 0.6558302044868469\n",
      "350000 | 0.8512871861457825\n",
      "360000 | 0.8835681676864624\n",
      "370000 | 0.7379559278488159\n",
      "380000 | 0.8473944664001465\n",
      "390000 | 0.7498301863670349\n",
      "400000 | 0.6933672428131104\n",
      "410000 | 0.7734654545783997\n",
      "420000 | 0.8430567383766174\n",
      "430000 | 1.0336265563964844\n",
      "440000 | 0.8197467923164368\n",
      "450000 | 0.7829181551933289\n",
      "460000 | 0.9246541261672974\n",
      "470000 | 0.7130573987960815\n",
      "480000 | 0.7321223616600037\n",
      "490000 | 0.719010591506958\n",
      "500000 | 0.8001130223274231\n",
      "510000 | 0.777899444103241\n",
      "520000 | 0.7434495687484741\n",
      "530000 | 0.8381308913230896\n",
      "540000 | 0.7532905340194702\n",
      "550000 | 0.8249958157539368\n",
      "560000 | 0.8511762619018555\n",
      "570000 | 0.7925539612770081\n",
      "580000 | 0.8146827816963196\n",
      "590000 | 0.8025549650192261\n",
      "600000 | 0.8130123615264893\n",
      "610000 | 0.7194662690162659\n",
      "620000 | 0.9115148782730103\n",
      "630000 | 0.7294645309448242\n",
      "640000 | 0.723468005657196\n",
      "650000 | 0.7710800766944885\n",
      "660000 | 0.8354830145835876\n",
      "670000 | 0.9026414752006531\n",
      "680000 | 0.5960390567779541\n",
      "690000 | 0.6596379280090332\n",
      "700000 | 0.6789392232894897\n",
      "710000 | 0.5959124565124512\n",
      "720000 | 0.5110486745834351\n",
      "730000 | 0.5270013213157654\n",
      "740000 | 0.7354085445404053\n",
      "750000 | 0.5963557958602905\n",
      "760000 | 0.5863038897514343\n",
      "770000 | 0.6131339073181152\n",
      "780000 | 0.7003713250160217\n",
      "790000 | 0.43522748351097107\n",
      "800000 | 0.30856314301490784\n",
      "810000 | 0.4109930396080017\n",
      "820000 | 0.5956815481185913\n",
      "830000 | 0.5054771304130554\n",
      "840000 | 0.294948548078537\n",
      "850000 | -0.09754276275634766\n",
      "860000 | 0.2987644374370575\n",
      "870000 | 0.22050514817237854\n",
      "880000 | 0.12329502403736115\n",
      "890000 | 0.37569722533226013\n",
      "900000 | 0.2674436569213867\n",
      "910000 | 0.4663245975971222\n",
      "920000 | 0.5146161913871765\n",
      "930000 | 0.715812087059021\n",
      "940000 | 0.26123881340026855\n",
      "950000 | 0.12003722041845322\n",
      "960000 | 0.23284168541431427\n",
      "970000 | 0.5256777405738831\n",
      "980000 | 0.2725882828235626\n",
      "990000 | 0.24444401264190674\n",
      "*** Learned weights:\n",
      "\n",
      " 0.2615\n",
      " 0.2378\n",
      " 0.5007\n",
      "[torch.FloatTensor of size 3]\n",
      "\n",
      "*** Learned means:\n",
      "\n",
      " 2.1076\n",
      " 1.8845\n",
      " 0.9996\n",
      "[torch.FloatTensor of size 3]\n",
      "\n",
      "*** Learned Stdvs:\n",
      "\n",
      " 0.2815\n",
      " 0.2720\n",
      " 0.1003\n",
      "[torch.FloatTensor of size 3]\n",
      "\n"
     ]
    }
   ],
   "source": [
    "train()"
   ]
  },
  {
   "cell_type": "code",
   "execution_count": 10,
   "metadata": {},
   "outputs": [
    {
     "data": {
      "text/plain": [
       "<matplotlib.axes._subplots.AxesSubplot at 0x7fef99ef2208>"
      ]
     },
     "execution_count": 10,
     "metadata": {},
     "output_type": "execute_result"
    },
    {
     "data": {
      "image/png": "[encoded data removed]",
      "text/plain": [
       "<matplotlib.figure.Figure at 0x7fef99eeceb8>"
      ]
     },
     "metadata": {},
     "output_type": "display_data"
    }
   ],
   "source": [
    "_, mdl_samples = mdl.sample(size=1000)\n",
    "sns.kdeplot(mdl_samples.data.numpy())"
   ]
  },
  {
   "cell_type": "code",
   "execution_count": 11,
   "metadata": {},
   "outputs": [
    {
     "data": {
      "text/plain": [
       "<matplotlib.axes._subplots.AxesSubplot at 0x7fef98680c88>"
      ]
     },
     "execution_count": 11,
     "metadata": {},
     "output_type": "execute_result"
    },
    {
     "data": {
      "image/png": "[encoded data removed]",
      "text/plain": [
       "<matplotlib.figure.Figure at 0x7fef9865cb38>"
      ]
     },
     "metadata": {},
     "output_type": "display_data"
    }
   ],
   "source": [
    "_choices, samples = sample_from_gmm(size=1000)\n",
    "sns.kdeplot(samples.numpy())"
   ]
  },
  {
   "cell_type": "markdown",
   "metadata": {
    "collapsed": true
   },
   "source": [
    "- - - "
   ]
  },
  {
   "cell_type": "markdown",
   "metadata": {},
   "source": [
    "Finally, let's compare this with scikit-learn's Expectation-Maximization and Variational Bayes algorithms for gaussian mixture models."
   ]
  },
  {
   "cell_type": "code",
   "execution_count": null,
   "metadata": {
    "collapsed": true
   },
   "outputs": [],
   "source": []
  }
 ],
 "metadata": {
  "kernelspec": {
   "display_name": "Python 3",
   "language": "python",
   "name": "python3"
  },
  "language_info": {
   "codemirror_mode": {
    "name": "ipython",
    "version": 3
   },
   "file_extension": ".py",
   "mimetype": "text/x-python",
   "name": "python",
   "nbconvert_exporter": "python",
   "pygments_lexer": "ipython3",
   "version": "3.6.2"
  }
 },
 "nbformat": 4,
 "nbformat_minor": 2
}
