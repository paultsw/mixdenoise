{
 "cells": [
  {
   "cell_type": "markdown",
   "metadata": {},
   "source": [
    "A quick demo showing how MixDenoise works: we'll construct an\n",
    "artificial GMM with 5 components and construct a MixDenoise\n",
    "layer with 10 components.\n",
    "\n",
    "We train on samples from the GMM and pass the resulting outputs\n",
    "to some feedforward networks for dimensionality reduction from 10=>5,\n",
    "and try to predict which gaussian it came from."
   ]
  },
  {
   "cell_type": "code",
   "execution_count": null,
   "metadata": {
    "collapsed": true
   },
   "outputs": [],
   "source": [
    "import torch\n",
    "import torch.nn as nn\n",
    "from torch.autograd import Variable\n",
    "import torch.optim as optim\n",
    "from mixdenoise import MixDenoise\n",
    "\n",
    "import numpy as np\n",
    "from tqdm import tqdm"
   ]
  },
  {
   "cell_type": "code",
   "execution_count": null,
   "metadata": {
    "collapsed": true
   },
   "outputs": [],
   "source": [
    "### GMM sampling:\n",
    "gmm_mixes = torch.Tensor([0.05, 0.2, 0.3, 0.4, 0.05])\n",
    "gmm_means = torch.Tensor([ 1.0, 2.0, 3.0, 4.0, 5.0 ])\n",
    "gmm_stdvs = torch.Tensor([ 0.1, 0.1, 0.1, 0.1, 0.1 ])\n",
    "def sample_from_gmm(size=1):\n",
    "    \"\"\"\n",
    "    Return a batch of samples from above gaussian components.\n",
    "    Output shape is (batch_size, 1).\n",
    "    \"\"\"\n",
    "    # draw an integer vector of gaussian component choices:\n",
    "    choices = torch.multinomial(gmm_mixes, size, replacement=True)\n",
    "    # get corresponding gaussian samples:\n",
    "    samples = torch.normal(gmm_means[choices], gmm_stdvs[choices])\n",
    "    return (choices, samples.unsqueeze(1))"
   ]
  },
  {
   "cell_type": "code",
   "execution_count": null,
   "metadata": {
    "collapsed": true
   },
   "outputs": [],
   "source": [
    "### Build model, loss, optimizer:\n",
    "mdl = nn.Sequential(MixDenoise(10),\n",
    "                    nn.Linear(10,25),\n",
    "                    nn.Sigmoid(),\n",
    "                    nn.Linear(25,10),\n",
    "                    nn.Sigmoid(),\n",
    "                    nn.Linear(10,5))\n",
    "loss_fn = nn.CrossEntropyLoss()\n",
    "opt = optim.SGD(mdl.parameters(), lr=0.01, momentum=0.9, nesterov=True)"
   ]
  },
  {
   "cell_type": "code",
   "execution_count": null,
   "metadata": {
    "collapsed": true
   },
   "outputs": [],
   "source": [
    "### Training:\n",
    "def train():\n",
    "    NUM_ITERS = 1000000\n",
    "    PRINT_EVERY = 10000\n",
    "    BSZ = 32\n",
    "    for k in tqdm(range(NUM_ITERS)):\n",
    "        # clear gradients:\n",
    "        opt.zero_grad()\n",
    "        # generate a sample:\n",
    "        comps, samps = sample_from_gmm(size=BSZ)\n",
    "        x = Variable(samps)\n",
    "        t = Variable(comps)\n",
    "        # generate a prediction:\n",
    "        p = mdl(x)\n",
    "        # compute loss:\n",
    "        loss = loss_fn(p,t)\n",
    "        # backwards:\n",
    "        opt.step()\n",
    "        # print:\n",
    "        if (k % PRINT_EVERY == 0): tqdm.write(\"{0} | {1}\".format(k,loss.data[0]))\n",
    "\n",
    "    # print weights:\n",
    "    print(\"*** Mixture weights:\")\n",
    "    print(gmm_mixes)\n",
    "    print(\"*** Learned weights:\")\n",
    "    print([p for p in mdl[1].parameters()])\n",
    "    print(\"*** Learned means:\")\n",
    "    print(mdl[0].means.data)\n",
    "    print(\"*** Learned Stdvs:\")\n",
    "    print(mdl[0].stdvs.data)"
   ]
  }
 ],
 "metadata": {
  "kernelspec": {
   "display_name": "Python 3",
   "language": "python",
   "name": "python3"
  },
  "language_info": {
   "codemirror_mode": {
    "name": "ipython",
    "version": 3
   },
   "file_extension": ".py",
   "mimetype": "text/x-python",
   "name": "python",
   "nbconvert_exporter": "python",
   "pygments_lexer": "ipython3",
   "version": "3.6.2"
  }
 },
 "nbformat": 4,
 "nbformat_minor": 2
}
